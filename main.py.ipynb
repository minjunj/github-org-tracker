{
 "cells": [
  {
   "cell_type": "code",
   "execution_count": 19,
   "id": "3b502dfd",
   "metadata": {
    "scrolled": false
   },
   "outputs": [
    {
     "ename": "AttributeError",
     "evalue": "ResultSet object has no attribute 'text'. You're probably treating a list of elements like a single element. Did you call find_all() when you meant to call find()?",
     "output_type": "error",
     "traceback": [
      "\u001b[0;31m---------------------------------------------------------------------------\u001b[0m",
      "\u001b[0;31mAttributeError\u001b[0m                            Traceback (most recent call last)",
      "Cell \u001b[0;32mIn[19], line 12\u001b[0m\n\u001b[1;32m     10\u001b[0m     soup \u001b[38;5;241m=\u001b[39m BeautifulSoup(html, \u001b[38;5;124m'\u001b[39m\u001b[38;5;124mhtml.parser\u001b[39m\u001b[38;5;124m'\u001b[39m)\n\u001b[1;32m     11\u001b[0m     filter_ \u001b[38;5;241m=\u001b[39m soup\u001b[38;5;241m.\u001b[39mselect(\u001b[38;5;124m'\u001b[39m\u001b[38;5;124m#repo-content-pjax-container > div > div > div.Layout-main\u001b[39m\u001b[38;5;124m'\u001b[39m)\n\u001b[0;32m---> 12\u001b[0m     \u001b[38;5;28mprint\u001b[39m(filter_\u001b[38;5;241m.\u001b[39mtext)\n\u001b[1;32m     14\u001b[0m     \u001b[38;5;66;03m#print(title)\u001b[39;00m\n\u001b[1;32m     15\u001b[0m \n\u001b[1;32m     16\u001b[0m \u001b[38;5;28;01melse\u001b[39;00m : \n\u001b[1;32m     17\u001b[0m     \u001b[38;5;28mprint\u001b[39m(response\u001b[38;5;241m.\u001b[39mstatus_code)\n",
      "File \u001b[0;32m~/anaconda3/lib/python3.11/site-packages/bs4/element.py:2428\u001b[0m, in \u001b[0;36mResultSet.__getattr__\u001b[0;34m(self, key)\u001b[0m\n\u001b[1;32m   2426\u001b[0m \u001b[38;5;28;01mdef\u001b[39;00m \u001b[38;5;21m__getattr__\u001b[39m(\u001b[38;5;28mself\u001b[39m, key):\n\u001b[1;32m   2427\u001b[0m \u001b[38;5;250m    \u001b[39m\u001b[38;5;124;03m\"\"\"Raise a helpful exception to explain a common code fix.\"\"\"\u001b[39;00m\n\u001b[0;32m-> 2428\u001b[0m     \u001b[38;5;28;01mraise\u001b[39;00m \u001b[38;5;167;01mAttributeError\u001b[39;00m(\n\u001b[1;32m   2429\u001b[0m         \u001b[38;5;124m\"\u001b[39m\u001b[38;5;124mResultSet object has no attribute \u001b[39m\u001b[38;5;124m'\u001b[39m\u001b[38;5;132;01m%s\u001b[39;00m\u001b[38;5;124m'\u001b[39m\u001b[38;5;124m. You\u001b[39m\u001b[38;5;124m'\u001b[39m\u001b[38;5;124mre probably treating a list of elements like a single element. Did you call find_all() when you meant to call find()?\u001b[39m\u001b[38;5;124m\"\u001b[39m \u001b[38;5;241m%\u001b[39m key\n\u001b[1;32m   2430\u001b[0m     )\n",
      "\u001b[0;31mAttributeError\u001b[0m: ResultSet object has no attribute 'text'. You're probably treating a list of elements like a single element. Did you call find_all() when you meant to call find()?"
     ]
    }
   ],
   "source": [
    "import requests\n",
    "from bs4 import BeautifulSoup\n",
    "\n",
    "url = 'https://github.com/gsainfoteam/ziggle-fe/graphs/contributors?from=2023-07-03&to=2024-02-17&type=c'\n",
    "\n",
    "response = requests.get(url)\n",
    "\n",
    "if response.status_code == 200:\n",
    "    html = response.text\n",
    "    soup = BeautifulSoup(html, 'html.parser')\n",
    "    filter_ = soup.select('#repo-content-pjax-container > div > div > div.Layout-main')\n",
    "    \n",
    "    #print(title)\n",
    "\n",
    "else : \n",
    "    print(response.status_code)"
   ]
  },
  {
   "cell_type": "code",
   "execution_count": 4,
   "id": "1691c3ba",
   "metadata": {
    "scrolled": true
   },
   "outputs": [
    {
     "name": "stdout",
     "output_type": "stream",
     "text": [
      "None\n"
     ]
    },
    {
     "ename": "AttributeError",
     "evalue": "'NoneType' object has no attribute 'find_all'",
     "output_type": "error",
     "traceback": [
      "\u001b[0;31m---------------------------------------------------------------------------\u001b[0m",
      "\u001b[0;31mAttributeError\u001b[0m                            Traceback (most recent call last)",
      "Cell \u001b[0;32mIn[4], line 28\u001b[0m\n\u001b[1;32m     25\u001b[0m div_tag \u001b[38;5;241m=\u001b[39m soup\u001b[38;5;241m.\u001b[39mfind(\u001b[38;5;124m'\u001b[39m\u001b[38;5;124mdiv\u001b[39m\u001b[38;5;124m'\u001b[39m, class_\u001b[38;5;241m=\u001b[39m\u001b[38;5;124m'\u001b[39m\u001b[38;5;124mclearfix js-graph graph-canvas\u001b[39m\u001b[38;5;124m'\u001b[39m)\n\u001b[1;32m     26\u001b[0m \u001b[38;5;28mprint\u001b[39m(div_tag)\n\u001b[0;32m---> 28\u001b[0m elements \u001b[38;5;241m=\u001b[39m div_tag\u001b[38;5;241m.\u001b[39mfind_all(\u001b[38;5;124m'\u001b[39m\u001b[38;5;124mli\u001b[39m\u001b[38;5;124m'\u001b[39m, class_\u001b[38;5;241m=\u001b[39m\u001b[38;5;124m'\u001b[39m\u001b[38;5;124mcontrib-person float-left col-6 my-2 pr-2\u001b[39m\u001b[38;5;124m'\u001b[39m)\n\u001b[1;32m     30\u001b[0m \u001b[38;5;66;03m# List to hold the contents of each 'li' element\u001b[39;00m\n\u001b[1;32m     31\u001b[0m contents_list \u001b[38;5;241m=\u001b[39m []\n",
      "\u001b[0;31mAttributeError\u001b[0m: 'NoneType' object has no attribute 'find_all'"
     ]
    }
   ],
   "source": [
    "from selenium import webdriver\n",
    "from selenium.webdriver.common.by import By\n",
    "from selenium.webdriver.chrome.service import Service\n",
    "from selenium.webdriver.support.ui import WebDriverWait\n",
    "from selenium.webdriver.support import expected_conditions as EC\n",
    "from webdriver_manager.chrome import ChromeDriverManager\n",
    "import time\n",
    "from bs4 import BeautifulSoup\n",
    "\n",
    "\n",
    "driver = webdriver.Chrome(service=Service(ChromeDriverManager().install()))\n",
    "\n",
    "\n",
    "url = 'https://github.com/gsainfoteam/ziggle-fe/graphs/contributors?from=2023-07-03&to=2024-02-17&type=c'\n",
    "\n",
    "er\n",
    "driver.get(url)\n",
    "wait = WebDriverWait(driver, 3)\n",
    "wait.until(EC.presence_of_element_located((By.CLASS_NAME, 'graph-canvas')))\n",
    "\n",
    "search = driver.page_source\n",
    "\n",
    "#print(search)\n",
    "soup = BeautifulSoup(search, 'html.parser')\n",
    "div_tag = soup.find('div', class_='clearfix js-graph graph-canvas')\n",
    "print(div_tag)\n",
    "\n",
    "elements = div_tag.find_all('li', class_='contrib-person float-left col-6 my-2 pr-2')\n",
    "\n",
    "\n",
    "contents_list = []\n",
    "\n",
    "\n",
    "for element in elements:\n",
    "    contents_list.append(element.text.strip())\n",
    "\n",
    "#driver.quit()\n"
   ]
  },
  {
   "cell_type": "code",
   "execution_count": 92,
   "id": "2c579252",
   "metadata": {},
   "outputs": [],
   "source": [
    "ol_tag = div_tag.find_all('ol', class_='contrib-data list-style-none')[0]"
   ]
  },
  {
   "cell_type": "code",
   "execution_count": 95,
   "id": "57ee4197",
   "metadata": {
    "scrolled": true
   },
   "outputs": [
    {
     "data": {
      "text/plain": [
       "<ol class=\"contrib-data list-style-none\"><li class=\"contrib-person float-left col-6 my-2 pr-2\">\n",
       "<span class=\"d-block Box\">\n",
       "<h3 class=\"border-bottom p-2 lh-condensed\">\n",
       "<a class=\"d-inline-block mr-2 float-left\" data-hovercard-type=\"user\" data-hovercard-url=\"/users/2paperstar/hovercard\" href=\"/2paperstar\">\n",
       "<img alt=\"2paperstar\" class=\"avatar avatar-user\" height=\"38\" src=\"https://avatars.githubusercontent.com/u/125528915?s=60&amp;v=4\" width=\"38\"/>\n",
       "</a>\n",
       "<span class=\"f5 text-normal color-fg-muted float-right\">#1</span>\n",
       "<a class=\"text-normal\" data-hovercard-type=\"user\" data-hovercard-url=\"/users/2paperstar/hovercard\" href=\"/2paperstar\">2paperstar</a>\n",
       "<span class=\"f6 d-block color-fg-muted\">\n",
       "<span class=\"cmeta\">\n",
       "<div>\n",
       "<a class=\"Link--secondary text-normal\" href=\"https://github.com/gsainfoteam/ziggle-fe/commits?author=2paperstar&amp;since=2023-07-03&amp;until=2024-02-17\">320 commits</a>\n",
       "<span class=\"additions-deletions\">\n",
       "                      \n",
       "                    <span class=\"color-fg-success text-normal\">92,996 ++</span>\n",
       "                      \n",
       "                    <span class=\"color-fg-danger text-normal\">102,059 --</span>\n",
       "</span>\n",
       "</div>\n",
       "</span>\n",
       "</span>\n",
       "</h3>\n",
       "<svg class=\"capped-card-content\" preserveaspectratio=\"xMinYMin meet\" viewbox=\"0 0 355 170\"><g transform=\"translate(20,10)\"><g class=\"x axis\" fill=\"none\" font-family=\"sans-serif\" font-size=\"10\" text-anchor=\"middle\" transform=\"translate(0, 110)\"><path class=\"domain\" d=\"M0.5,6V0.5H315.5V6\" stroke=\"currentColor\"></path><g class=\"tick\" opacity=\"1\" transform=\"translate(39.875,0)\"><line stroke=\"currentColor\" y2=\"6\"></line><text dy=\"0.71em\" fill=\"#6a737d\" style=\"display: block;\" y=\"9\">August</text></g><g class=\"tick\" opacity=\"1\" transform=\"translate(82.5169213973799,0)\"><line stroke=\"currentColor\" y2=\"6\"></line><text dy=\"0.71em\" fill=\"#6a737d\" style=\"display: none;\" y=\"9\">September</text></g><g class=\"tick\" opacity=\"1\" transform=\"translate(123.78329694323145,0)\"><line stroke=\"currentColor\" y2=\"6\"></line><text dy=\"0.71em\" fill=\"#6a737d\" style=\"display: none;\" y=\"9\">October</text></g><g class=\"tick\" opacity=\"1\" transform=\"translate(166.42521834061137,0)\"><line stroke=\"currentColor\" y2=\"6\"></line><text dy=\"0.71em\" fill=\"#6a737d\" style=\"display: block;\" y=\"9\">November</text></g><g class=\"tick\" opacity=\"1\" transform=\"translate(207.6915938864629,0)\"><line stroke=\"currentColor\" y2=\"6\"></line><text dy=\"0.71em\" fill=\"#6a737d\" style=\"display: none;\" y=\"9\">December</text></g><g class=\"tick\" opacity=\"1\" transform=\"translate(250.3335152838428,0)\"><line stroke=\"currentColor\" y2=\"6\"></line><text dy=\"0.71em\" fill=\"#6a737d\" style=\"display: none;\" y=\"9\">2024</text></g><g class=\"tick\" opacity=\"1\" transform=\"translate(292.9754366812227,0)\"><line stroke=\"currentColor\" y2=\"6\"></line><text dy=\"0.71em\" fill=\"#6a737d\" style=\"display: block;\" y=\"9\">February</text></g></g><g class=\"y axis\" fill=\"none\" font-family=\"sans-serif\" font-size=\"10\" text-anchor=\"end\"><path class=\"domain\" d=\"M315,110.5H0.5V0.5H315\" stroke=\"currentColor\"></path><g class=\"tick\" opacity=\"1\" transform=\"translate(0,110.5)\"><line stroke=\"currentColor\" x2=\"315\"></line><text class=\"midlabel\" dx=\"157.5\" dy=\"0.32em\" fill=\"#6a737d\" style=\"display: none;\" x=\"-10\">0</text></g><g class=\"tick\" opacity=\"1\" transform=\"translate(0,54.94444444444444)\"><line stroke=\"currentColor\" x2=\"315\"></line><text class=\"midlabel\" dx=\"157.5\" dy=\"0.32em\" fill=\"#6a737d\" style=\"display: block;\" x=\"-10\">50</text></g></g><path d=\"M8.253275109170305,110L9.858078602620088,110C11.462882096069869,110,14.672489082969433,110,17.882096069868997,109.81481481481482C21.09170305676856,109.62962962962963,24.30131004366812,109.25925925925928,27.510917030567683,109.07407407407409C30.720524017467245,108.8888888888889,33.93013100436681,108.8888888888889,37.13973799126637,108.33333333333333C40.34934497816594,107.77777777777779,43.55895196506551,106.66666666666667,46.76855895196507,105.37037037037037C49.978165938864635,104.07407407407408,53.18777292576419,102.5925925925926,56.39737991266375,102.77777777777777C59.60698689956332,102.96296296296298,62.816593886462876,104.81481481481482,66.02620087336244,105.1851851851852C69.235807860262,105.55555555555556,72.44541484716156,104.44444444444446,75.65502183406113,104.25925925925925C78.8646288209607,104.07407407407408,82.07423580786026,104.81481481481482,85.28384279475983,105.55555555555554C88.49344978165941,106.2962962962963,91.70305676855895,107.03703703703702,94.91266375545852,107.77777777777777C98.12227074235807,108.51851851851852,101.33187772925764,109.25925925925925,104.5414847161572,101.2962962962963C107.75109170305677,93.33333333333333,110.96069868995635,76.66666666666667,114.17030567685589,58.333333333333336C117.37991266375546,39.99999999999999,120.58951965065502,19.999999999999996,123.79912663755458,28.14814814814815C127.00873362445414,36.2962962962963,130.2183406113537,72.5925925925926,133.42794759825327,90.92592592592594C136.63755458515286,109.25925925925928,139.8471615720524,109.62962962962963,143.05676855895197,109.81481481481482C146.26637554585153,110,149.4759825327511,110,152.68558951965065,107.77777777777777C155.8951965065502,105.55555555555556,159.1048034934498,101.11111111111113,162.31441048034935,100C165.5240174672489,98.8888888888889,168.7336244541485,101.11111111111113,171.94323144104806,96.48148148148148C175.15283842794761,91.85185185185185,178.3624454148472,80.37037037037037,181.57205240174673,67.5925925925926C184.7816593886463,54.81481481481481,187.99126637554585,40.74074074074074,191.20087336244544,47.22222222222222C194.41048034934497,53.7037037037037,197.62008733624452,80.74074074074073,200.82969432314414,94.62962962962963C204.03930131004367,108.51851851851852,207.24890829694323,109.25925925925925,210.4585152838428,109.62962962962963C213.66812227074237,110,216.8777292576419,110,220.0873362445415,110C223.29694323144102,110,226.50655021834064,110,229.7161572052402,110C232.92576419213978,110,236.1353711790393,110,239.34497816593887,109.81481481481482C242.55458515283843,109.62962962962963,245.76419213973796,109.25925925925928,248.97379912663754,106.85185185185186C252.1834061135371,104.44444444444446,255.39301310043672,100,258.6026200873362,100.18518518518518C261.8122270742358,100.37037037037037,265.0218340611354,105.18518518518518,268.2314410480349,107.5925925925926C271.4410480349345,110,274.6506550218341,110,277.8602620087336,110C281.0698689956332,110,284.2794759825328,110,287.48908296943233,110C290.69868995633186,110,293.9082969432314,110,297.117903930131,110C300.32751091703057,110,303.5371179039301,110,305.1419213973799,110L306.7467248908297,110L306.7467248908297,110L305.1419213973799,110C303.5371179039301,110,300.32751091703057,110,297.117903930131,110C293.9082969432314,110,290.69868995633186,110,287.48908296943233,110C284.2794759825328,110,281.0698689956332,110,277.8602620087336,110C274.6506550218341,110,271.4410480349345,110,268.2314410480349,110C265.0218340611354,110,261.8122270742358,110,258.6026200873362,110C255.39301310043672,110,252.1834061135371,110,248.97379912663754,110C245.76419213973796,110,242.55458515283843,110,239.34497816593887,110C236.1353711790393,110,232.92576419213978,110,229.7161572052402,110C226.50655021834064,110,223.29694323144102,110,220.0873362445415,110C216.8777292576419,110,213.66812227074237,110,210.4585152838428,110C207.24890829694323,110,204.03930131004367,110,200.82969432314408,110C197.62008733624452,110,194.41048034934497,110,191.20087336244544,110C187.99126637554585,110,184.7816593886463,110,181.57205240174673,110C178.3624454148472,110,175.15283842794761,110,171.94323144104806,110C168.7336244541485,110,165.5240174672489,110,162.31441048034935,110C159.1048034934498,110,155.8951965065502,110,152.68558951965065,110C149.4759825327511,110,146.26637554585153,110,143.05676855895197,110C139.8471615720524,110,136.63755458515286,110,133.42794759825327,110C130.2183406113537,110,127.00873362445414,110,123.7991266375546,110C120.58951965065502,110,117.37991266375546,110,114.1703056768559,110C110.96069868995635,110,107.75109170305677,110,104.5414847161572,110C101.33187772925764,110,98.12227074235807,110,94.9126637554585,110C91.70305676855895,110,88.49344978165941,110,85.28384279475983,110C82.07423580786026,110,78.8646288209607,110,75.65502183406113,110C72.44541484716156,110,69.235807860262,110,66.02620087336244,110C62.816593886462876,110,59.60698689956332,110,56.39737991266376,110C53.18777292576419,110,49.978165938864635,110,46.76855895196507,110C43.55895196506551,110,40.34934497816594,110,37.13973799126637,110C33.93013100436681,110,30.720524017467245,110,27.510917030567683,110C24.30131004366812,110,21.09170305676856,110,17.882096069868997,110C14.672489082969433,110,11.462882096069869,110,9.858078602620088,110L8.253275109170305,110Z\"></path></g></svg></span>\n",
       "</li><li class=\"contrib-person float-left col-6 my-2 pl-2\">\n",
       "<span class=\"d-block Box\">\n",
       "<h3 class=\"border-bottom p-2 lh-condensed\">\n",
       "<a class=\"d-inline-block mr-2 float-left\" data-hovercard-type=\"user\" data-hovercard-url=\"/users/dohyun-ko/hovercard\" href=\"/dohyun-ko\">\n",
       "<img alt=\"dohyun-ko\" class=\"avatar avatar-user\" height=\"38\" src=\"https://avatars.githubusercontent.com/u/30494557?s=60&amp;v=4\" width=\"38\"/>\n",
       "</a>\n",
       "<span class=\"f5 text-normal color-fg-muted float-right\">#2</span>\n",
       "<a class=\"text-normal\" data-hovercard-type=\"user\" data-hovercard-url=\"/users/dohyun-ko/hovercard\" href=\"/dohyun-ko\">dohyun-ko</a>\n",
       "<span class=\"f6 d-block color-fg-muted\">\n",
       "<span class=\"cmeta\">\n",
       "<div>\n",
       "<a class=\"Link--secondary text-normal\" href=\"https://github.com/gsainfoteam/ziggle-fe/commits?author=dohyun-ko&amp;since=2023-07-03&amp;until=2024-02-17\">105 commits</a>\n",
       "<span class=\"additions-deletions\">\n",
       "                      \n",
       "                    <span class=\"color-fg-success text-normal\">90,482 ++</span>\n",
       "                      \n",
       "                    <span class=\"color-fg-danger text-normal\">21,701 --</span>\n",
       "</span>\n",
       "</div>\n",
       "</span>\n",
       "</span>\n",
       "</h3>\n",
       "<svg class=\"capped-card-content\" preserveaspectratio=\"xMinYMin meet\" viewbox=\"0 0 355 170\"><g transform=\"translate(20,10)\"><g class=\"x axis\" fill=\"none\" font-family=\"sans-serif\" font-size=\"10\" text-anchor=\"middle\" transform=\"translate(0, 110)\"><path class=\"domain\" d=\"M0.5,6V0.5H315.5V6\" stroke=\"currentColor\"></path><g class=\"tick\" opacity=\"1\" transform=\"translate(39.875,0)\"><line stroke=\"currentColor\" y2=\"6\"></line><text dy=\"0.71em\" fill=\"#6a737d\" style=\"display: block;\" y=\"9\">August</text></g><g class=\"tick\" opacity=\"1\" transform=\"translate(82.5169213973799,0)\"><line stroke=\"currentColor\" y2=\"6\"></line><text dy=\"0.71em\" fill=\"#6a737d\" style=\"display: none;\" y=\"9\">September</text></g><g class=\"tick\" opacity=\"1\" transform=\"translate(123.78329694323145,0)\"><line stroke=\"currentColor\" y2=\"6\"></line><text dy=\"0.71em\" fill=\"#6a737d\" style=\"display: none;\" y=\"9\">October</text></g><g class=\"tick\" opacity=\"1\" transform=\"translate(166.42521834061137,0)\"><line stroke=\"currentColor\" y2=\"6\"></line><text dy=\"0.71em\" fill=\"#6a737d\" style=\"display: block;\" y=\"9\">November</text></g><g class=\"tick\" opacity=\"1\" transform=\"translate(207.6915938864629,0)\"><line stroke=\"currentColor\" y2=\"6\"></line><text dy=\"0.71em\" fill=\"#6a737d\" style=\"display: none;\" y=\"9\">December</text></g><g class=\"tick\" opacity=\"1\" transform=\"translate(250.3335152838428,0)\"><line stroke=\"currentColor\" y2=\"6\"></line><text dy=\"0.71em\" fill=\"#6a737d\" style=\"display: none;\" y=\"9\">2024</text></g><g class=\"tick\" opacity=\"1\" transform=\"translate(292.9754366812227,0)\"><line stroke=\"currentColor\" y2=\"6\"></line><text dy=\"0.71em\" fill=\"#6a737d\" style=\"display: block;\" y=\"9\">February</text></g></g><g class=\"y axis\" fill=\"none\" font-family=\"sans-serif\" font-size=\"10\" text-anchor=\"end\"><path class=\"domain\" d=\"M315,110.5H0.5V0.5H315\" stroke=\"currentColor\"></path><g class=\"tick\" opacity=\"1\" transform=\"translate(0,110.5)\"><line stroke=\"currentColor\" x2=\"315\"></line><text class=\"midlabel\" dx=\"157.5\" dy=\"0.32em\" fill=\"#6a737d\" style=\"display: none;\" x=\"-10\">0</text></g><g class=\"tick\" opacity=\"1\" transform=\"translate(0,54.94444444444444)\"><line stroke=\"currentColor\" x2=\"315\"></line><text class=\"midlabel\" dx=\"157.5\" dy=\"0.32em\" fill=\"#6a737d\" style=\"display: block;\" x=\"-10\">50</text></g></g><path d=\"M8.253275109170305,110L9.858078602620088,109.25925925925925C11.462882096069869,108.51851851851852,14.672489082969433,107.03703703703702,17.882096069868997,106.29629629629629C21.09170305676856,105.55555555555556,24.30131004366812,105.55555555555556,27.510917030567683,106.11111111111113C30.720524017467245,106.66666666666667,33.93013100436681,107.77777777777779,37.13973799126637,106.2962962962963C40.34934497816594,104.81481481481482,43.55895196506551,100.74074074074075,46.76855895196507,100.74074074074075C49.978165938864635,100.74074074074075,53.18777292576419,104.81481481481482,56.39737991266375,105.37037037037038C59.60698689956332,105.92592592592594,62.816593886462876,102.96296296296298,66.02620087336244,98.51851851851852C69.235807860262,94.07407407407408,72.44541484716156,88.14814814814815,75.65502183406113,89.62962962962962C78.8646288209607,91.1111111111111,82.07423580786026,100,85.28384279475983,104.62962962962963C88.49344978165941,109.25925925925928,91.70305676855895,109.62962962962963,94.91266375545852,109.81481481481482C98.12227074235807,110,101.33187772925764,110,104.5414847161572,109.81481481481482C107.75109170305677,109.62962962962963,110.96069868995635,109.25925925925928,114.17030567685589,108.88888888888891C117.37991266375546,108.51851851851852,120.58951965065502,108.14814814814815,123.79912663755458,108.33333333333333C127.00873362445414,108.51851851851852,130.2183406113537,109.25925925925925,133.42794759825327,109.62962962962963C136.63755458515286,110,139.8471615720524,110,143.05676855895197,110C146.26637554585153,110,149.4759825327511,110,152.68558951965065,110C155.8951965065502,110,159.1048034934498,110,162.31441048034935,110C165.5240174672489,110,168.7336244541485,110,171.94323144104806,106.66666666666667C175.15283842794761,103.33333333333333,178.3624454148472,96.66666666666667,181.57205240174673,92.96296296296298C184.7816593886463,89.25925925925925,187.99126637554585,88.51851851851852,191.20087336244544,91.66666666666667C194.41048034934497,94.81481481481482,197.62008733624452,101.85185185185186,200.82969432314414,105.55555555555556C204.03930131004367,109.25925925925928,207.24890829694323,109.62962962962963,210.4585152838428,109.81481481481482C213.66812227074237,110,216.8777292576419,110,220.0873362445415,110C223.29694323144102,110,226.50655021834064,110,229.7161572052402,110C232.92576419213978,110,236.1353711790393,110,239.34497816593887,110C242.55458515283843,110,245.76419213973796,110,248.97379912663754,110C252.1834061135371,110,255.39301310043672,110,258.6026200873362,110C261.8122270742358,110,265.0218340611354,110,268.2314410480349,109.81481481481482C271.4410480349345,109.62962962962963,274.6506550218341,109.25925925925928,277.8602620087336,109.25925925925928C281.0698689956332,109.25925925925928,284.2794759825328,109.62962962962963,287.48908296943233,109.81481481481482C290.69868995633186,110,293.9082969432314,110,297.117903930131,109.07407407407408C300.32751091703057,108.14814814814815,303.5371179039301,106.2962962962963,305.1419213973799,105.37037037037038L306.7467248908297,104.44444444444444L306.7467248908297,110L305.1419213973799,110C303.5371179039301,110,300.32751091703057,110,297.117903930131,110C293.9082969432314,110,290.69868995633186,110,287.48908296943233,110C284.2794759825328,110,281.0698689956332,110,277.8602620087336,110C274.6506550218341,110,271.4410480349345,110,268.2314410480349,110C265.0218340611354,110,261.8122270742358,110,258.6026200873362,110C255.39301310043672,110,252.1834061135371,110,248.97379912663754,110C245.76419213973796,110,242.55458515283843,110,239.34497816593887,110C236.1353711790393,110,232.92576419213978,110,229.7161572052402,110C226.50655021834064,110,223.29694323144102,110,220.0873362445415,110C216.8777292576419,110,213.66812227074237,110,210.4585152838428,110C207.24890829694323,110,204.03930131004367,110,200.82969432314408,110C197.62008733624452,110,194.41048034934497,110,191.20087336244544,110C187.99126637554585,110,184.7816593886463,110,181.57205240174673,110C178.3624454148472,110,175.15283842794761,110,171.94323144104806,110C168.7336244541485,110,165.5240174672489,110,162.31441048034935,110C159.1048034934498,110,155.8951965065502,110,152.68558951965065,110C149.4759825327511,110,146.26637554585153,110,143.05676855895197,110C139.8471615720524,110,136.63755458515286,110,133.42794759825327,110C130.2183406113537,110,127.00873362445414,110,123.7991266375546,110C120.58951965065502,110,117.37991266375546,110,114.1703056768559,110C110.96069868995635,110,107.75109170305677,110,104.5414847161572,110C101.33187772925764,110,98.12227074235807,110,94.9126637554585,110C91.70305676855895,110,88.49344978165941,110,85.28384279475983,110C82.07423580786026,110,78.8646288209607,110,75.65502183406113,110C72.44541484716156,110,69.235807860262,110,66.02620087336244,110C62.816593886462876,110,59.60698689956332,110,56.39737991266376,110C53.18777292576419,110,49.978165938864635,110,46.76855895196507,110C43.55895196506551,110,40.34934497816594,110,37.13973799126637,110C33.93013100436681,110,30.720524017467245,110,27.510917030567683,110C24.30131004366812,110,21.09170305676856,110,17.882096069868997,110C14.672489082969433,110,11.462882096069869,110,9.858078602620088,110L8.253275109170305,110Z\"></path></g></svg></span>\n",
       "</li><li class=\"contrib-person float-left col-6 my-2 pr-2\">\n",
       "<span class=\"d-block Box\">\n",
       "<h3 class=\"border-bottom p-2 lh-condensed\">\n",
       "<a class=\"d-inline-block mr-2 float-left\" data-hovercard-type=\"user\" data-hovercard-url=\"/users/MiRoro2/hovercard\" href=\"/MiRoro2\">\n",
       "<img alt=\"MiRoro2\" class=\"avatar avatar-user\" height=\"38\" src=\"https://avatars.githubusercontent.com/u/57053429?s=60&amp;v=4\" width=\"38\"/>\n",
       "</a>\n",
       "<span class=\"f5 text-normal color-fg-muted float-right\">#3</span>\n",
       "<a class=\"text-normal\" data-hovercard-type=\"user\" data-hovercard-url=\"/users/MiRoro2/hovercard\" href=\"/MiRoro2\">MiRoro2</a>\n",
       "<span class=\"f6 d-block color-fg-muted\">\n",
       "<span class=\"cmeta\">\n",
       "<div>\n",
       "<a class=\"Link--secondary text-normal\" href=\"https://github.com/gsainfoteam/ziggle-fe/commits?author=MiRoro2&amp;since=2023-07-03&amp;until=2024-02-17\">39 commits</a>\n",
       "<span class=\"additions-deletions\">\n",
       "                      \n",
       "                    <span class=\"color-fg-success text-normal\">28,389 ++</span>\n",
       "                      \n",
       "                    <span class=\"color-fg-danger text-normal\">4,619 --</span>\n",
       "</span>\n",
       "</div>\n",
       "</span>\n",
       "</span>\n",
       "</h3>\n",
       "<svg class=\"capped-card-content\" preserveaspectratio=\"xMinYMin meet\" viewbox=\"0 0 355 170\"><g transform=\"translate(20,10)\"><g class=\"x axis\" fill=\"none\" font-family=\"sans-serif\" font-size=\"10\" text-anchor=\"middle\" transform=\"translate(0, 110)\"><path class=\"domain\" d=\"M0.5,6V0.5H315.5V6\" stroke=\"currentColor\"></path><g class=\"tick\" opacity=\"1\" transform=\"translate(39.875,0)\"><line stroke=\"currentColor\" y2=\"6\"></line><text dy=\"0.71em\" fill=\"#6a737d\" style=\"display: block;\" y=\"9\">August</text></g><g class=\"tick\" opacity=\"1\" transform=\"translate(82.5169213973799,0)\"><line stroke=\"currentColor\" y2=\"6\"></line><text dy=\"0.71em\" fill=\"#6a737d\" style=\"display: none;\" y=\"9\">September</text></g><g class=\"tick\" opacity=\"1\" transform=\"translate(123.78329694323145,0)\"><line stroke=\"currentColor\" y2=\"6\"></line><text dy=\"0.71em\" fill=\"#6a737d\" style=\"display: none;\" y=\"9\">October</text></g><g class=\"tick\" opacity=\"1\" transform=\"translate(166.42521834061137,0)\"><line stroke=\"currentColor\" y2=\"6\"></line><text dy=\"0.71em\" fill=\"#6a737d\" style=\"display: block;\" y=\"9\">November</text></g><g class=\"tick\" opacity=\"1\" transform=\"translate(207.6915938864629,0)\"><line stroke=\"currentColor\" y2=\"6\"></line><text dy=\"0.71em\" fill=\"#6a737d\" style=\"display: none;\" y=\"9\">December</text></g><g class=\"tick\" opacity=\"1\" transform=\"translate(250.3335152838428,0)\"><line stroke=\"currentColor\" y2=\"6\"></line><text dy=\"0.71em\" fill=\"#6a737d\" style=\"display: none;\" y=\"9\">2024</text></g><g class=\"tick\" opacity=\"1\" transform=\"translate(292.9754366812227,0)\"><line stroke=\"currentColor\" y2=\"6\"></line><text dy=\"0.71em\" fill=\"#6a737d\" style=\"display: block;\" y=\"9\">February</text></g></g><g class=\"y axis\" fill=\"none\" font-family=\"sans-serif\" font-size=\"10\" text-anchor=\"end\"><path class=\"domain\" d=\"M315,110.5H0.5V0.5H315\" stroke=\"currentColor\"></path><g class=\"tick\" opacity=\"1\" transform=\"translate(0,110.5)\"><line stroke=\"currentColor\" x2=\"315\"></line><text class=\"midlabel\" dx=\"157.5\" dy=\"0.32em\" fill=\"#6a737d\" style=\"display: none;\" x=\"-10\">0</text></g><g class=\"tick\" opacity=\"1\" transform=\"translate(0,54.94444444444444)\"><line stroke=\"currentColor\" x2=\"315\"></line><text class=\"midlabel\" dx=\"157.5\" dy=\"0.32em\" fill=\"#6a737d\" style=\"display: block;\" x=\"-10\">50</text></g></g><path d=\"M8.253275109170305,105.55555555555556L9.858078602620088,105.92592592592594C11.462882096069869,106.2962962962963,14.672489082969433,107.03703703703702,17.882096069868997,107.40740740740739C21.09170305676856,107.77777777777777,24.30131004366812,107.77777777777777,27.510917030567683,105.74074074074075C30.720524017467245,103.7037037037037,33.93013100436681,99.62962962962963,37.13973799126637,99.44444444444444C40.34934497816594,99.25925925925925,43.55895196506551,102.96296296296298,46.76855895196507,105.37037037037038C49.978165938864635,107.77777777777779,53.18777292576419,108.8888888888889,56.39737991266375,107.40740740740739C59.60698689956332,105.92592592592592,62.816593886462876,101.85185185185185,66.02620087336244,101.29629629629629C69.235807860262,100.74074074074075,72.44541484716156,103.7037037037037,75.65502183406113,105.74074074074075C78.8646288209607,107.77777777777779,82.07423580786026,108.8888888888889,85.28384279475983,109.44444444444444C88.49344978165941,110,91.70305676855895,110,94.91266375545852,110C98.12227074235807,110,101.33187772925764,110,104.5414847161572,110C107.75109170305677,110,110.96069868995635,110,114.17030567685589,110C117.37991266375546,110,120.58951965065502,110,123.79912663755458,110C127.00873362445414,110,130.2183406113537,110,133.42794759825327,110C136.63755458515286,110,139.8471615720524,110,143.05676855895197,110C146.26637554585153,110,149.4759825327511,110,152.68558951965065,110C155.8951965065502,110,159.1048034934498,110,162.31441048034935,110C165.5240174672489,110,168.7336244541485,110,171.94323144104806,110C175.15283842794761,110,178.3624454148472,110,181.57205240174673,109.81481481481482C184.7816593886463,109.62962962962963,187.99126637554585,109.25925925925928,191.20087336244544,109.25925925925928C194.41048034934497,109.25925925925928,197.62008733624452,109.62962962962963,200.82969432314414,109.81481481481482C204.03930131004367,110,207.24890829694323,110,210.4585152838428,110C213.66812227074237,110,216.8777292576419,110,220.0873362445415,110C223.29694323144102,110,226.50655021834064,110,229.7161572052402,110C232.92576419213978,110,236.1353711790393,110,239.34497816593887,110C242.55458515283843,110,245.76419213973796,110,248.97379912663754,110C252.1834061135371,110,255.39301310043672,110,258.6026200873362,110C261.8122270742358,110,265.0218340611354,110,268.2314410480349,110C271.4410480349345,110,274.6506550218341,110,277.8602620087336,110C281.0698689956332,110,284.2794759825328,110,287.48908296943233,110C290.69868995633186,110,293.9082969432314,110,297.117903930131,110C300.32751091703057,110,303.5371179039301,110,305.1419213973799,110L306.7467248908297,110L306.7467248908297,110L305.1419213973799,110C303.5371179039301,110,300.32751091703057,110,297.117903930131,110C293.9082969432314,110,290.69868995633186,110,287.48908296943233,110C284.2794759825328,110,281.0698689956332,110,277.8602620087336,110C274.6506550218341,110,271.4410480349345,110,268.2314410480349,110C265.0218340611354,110,261.8122270742358,110,258.6026200873362,110C255.39301310043672,110,252.1834061135371,110,248.97379912663754,110C245.76419213973796,110,242.55458515283843,110,239.34497816593887,110C236.1353711790393,110,232.92576419213978,110,229.7161572052402,110C226.50655021834064,110,223.29694323144102,110,220.0873362445415,110C216.8777292576419,110,213.66812227074237,110,210.4585152838428,110C207.24890829694323,110,204.03930131004367,110,200.82969432314408,110C197.62008733624452,110,194.41048034934497,110,191.20087336244544,110C187.99126637554585,110,184.7816593886463,110,181.57205240174673,110C178.3624454148472,110,175.15283842794761,110,171.94323144104806,110C168.7336244541485,110,165.5240174672489,110,162.31441048034935,110C159.1048034934498,110,155.8951965065502,110,152.68558951965065,110C149.4759825327511,110,146.26637554585153,110,143.05676855895197,110C139.8471615720524,110,136.63755458515286,110,133.42794759825327,110C130.2183406113537,110,127.00873362445414,110,123.7991266375546,110C120.58951965065502,110,117.37991266375546,110,114.1703056768559,110C110.96069868995635,110,107.75109170305677,110,104.5414847161572,110C101.33187772925764,110,98.12227074235807,110,94.9126637554585,110C91.70305676855895,110,88.49344978165941,110,85.28384279475983,110C82.07423580786026,110,78.8646288209607,110,75.65502183406113,110C72.44541484716156,110,69.235807860262,110,66.02620087336244,110C62.816593886462876,110,59.60698689956332,110,56.39737991266376,110C53.18777292576419,110,49.978165938864635,110,46.76855895196507,110C43.55895196506551,110,40.34934497816594,110,37.13973799126637,110C33.93013100436681,110,30.720524017467245,110,27.510917030567683,110C24.30131004366812,110,21.09170305676856,110,17.882096069868997,110C14.672489082969433,110,11.462882096069869,110,9.858078602620088,110L8.253275109170305,110Z\"></path></g></svg></span>\n",
       "</li><li class=\"contrib-person float-left col-6 my-2 pl-2\">\n",
       "<span class=\"d-block Box\">\n",
       "<h3 class=\"border-bottom p-2 lh-condensed\">\n",
       "<a class=\"d-inline-block mr-2 float-left\" data-hovercard-type=\"user\" data-hovercard-url=\"/users/Shimsuyeon/hovercard\" href=\"/Shimsuyeon\">\n",
       "<img alt=\"Shimsuyeon\" class=\"avatar avatar-user\" height=\"38\" src=\"https://avatars.githubusercontent.com/u/84979352?s=60&amp;v=4\" width=\"38\"/>\n",
       "</a>\n",
       "<span class=\"f5 text-normal color-fg-muted float-right\">#4</span>\n",
       "<a class=\"text-normal\" data-hovercard-type=\"user\" data-hovercard-url=\"/users/Shimsuyeon/hovercard\" href=\"/Shimsuyeon\">Shimsuyeon</a>\n",
       "<span class=\"f6 d-block color-fg-muted\">\n",
       "<span class=\"cmeta\">\n",
       "<div>\n",
       "<a class=\"Link--secondary text-normal\" href=\"https://github.com/gsainfoteam/ziggle-fe/commits?author=Shimsuyeon&amp;since=2023-07-03&amp;until=2024-02-17\">18 commits</a>\n",
       "<span class=\"additions-deletions\">\n",
       "                      \n",
       "                    <span class=\"color-fg-success text-normal\">47,560 ++</span>\n",
       "                      \n",
       "                    <span class=\"color-fg-danger text-normal\">45,967 --</span>\n",
       "</span>\n",
       "</div>\n",
       "</span>\n",
       "</span>\n",
       "</h3>\n",
       "<svg class=\"capped-card-content\" preserveaspectratio=\"xMinYMin meet\" viewbox=\"0 0 355 170\"><g transform=\"translate(20,10)\"><g class=\"x axis\" fill=\"none\" font-family=\"sans-serif\" font-size=\"10\" text-anchor=\"middle\" transform=\"translate(0, 110)\"><path class=\"domain\" d=\"M0.5,6V0.5H315.5V6\" stroke=\"currentColor\"></path><g class=\"tick\" opacity=\"1\" transform=\"translate(39.875,0)\"><line stroke=\"currentColor\" y2=\"6\"></line><text dy=\"0.71em\" fill=\"#6a737d\" style=\"display: block;\" y=\"9\">August</text></g><g class=\"tick\" opacity=\"1\" transform=\"translate(82.5169213973799,0)\"><line stroke=\"currentColor\" y2=\"6\"></line><text dy=\"0.71em\" fill=\"#6a737d\" style=\"display: none;\" y=\"9\">September</text></g><g class=\"tick\" opacity=\"1\" transform=\"translate(123.78329694323145,0)\"><line stroke=\"currentColor\" y2=\"6\"></line><text dy=\"0.71em\" fill=\"#6a737d\" style=\"display: none;\" y=\"9\">October</text></g><g class=\"tick\" opacity=\"1\" transform=\"translate(166.42521834061137,0)\"><line stroke=\"currentColor\" y2=\"6\"></line><text dy=\"0.71em\" fill=\"#6a737d\" style=\"display: block;\" y=\"9\">November</text></g><g class=\"tick\" opacity=\"1\" transform=\"translate(207.6915938864629,0)\"><line stroke=\"currentColor\" y2=\"6\"></line><text dy=\"0.71em\" fill=\"#6a737d\" style=\"display: none;\" y=\"9\">December</text></g><g class=\"tick\" opacity=\"1\" transform=\"translate(250.3335152838428,0)\"><line stroke=\"currentColor\" y2=\"6\"></line><text dy=\"0.71em\" fill=\"#6a737d\" style=\"display: none;\" y=\"9\">2024</text></g><g class=\"tick\" opacity=\"1\" transform=\"translate(292.9754366812227,0)\"><line stroke=\"currentColor\" y2=\"6\"></line><text dy=\"0.71em\" fill=\"#6a737d\" style=\"display: block;\" y=\"9\">February</text></g></g><g class=\"y axis\" fill=\"none\" font-family=\"sans-serif\" font-size=\"10\" text-anchor=\"end\"><path class=\"domain\" d=\"M315,110.5H0.5V0.5H315\" stroke=\"currentColor\"></path><g class=\"tick\" opacity=\"1\" transform=\"translate(0,110.5)\"><line stroke=\"currentColor\" x2=\"315\"></line><text class=\"midlabel\" dx=\"157.5\" dy=\"0.32em\" fill=\"#6a737d\" style=\"display: none;\" x=\"-10\">0</text></g><g class=\"tick\" opacity=\"1\" transform=\"translate(0,54.94444444444444)\"><line stroke=\"currentColor\" x2=\"315\"></line><text class=\"midlabel\" dx=\"157.5\" dy=\"0.32em\" fill=\"#6a737d\" style=\"display: block;\" x=\"-10\">50</text></g></g><path d=\"M8.253275109170305,110L9.858078602620088,110C11.462882096069869,110,14.672489082969433,110,17.882096069868997,109.44444444444444C21.09170305676856,108.8888888888889,24.30131004366812,107.77777777777779,27.510917030567683,107.77777777777779C30.720524017467245,107.77777777777779,33.93013100436681,108.8888888888889,37.13973799126637,107.96296296296295C40.34934497816594,107.03703703703702,43.55895196506551,104.07407407407408,46.76855895196507,104.07407407407408C49.978165938864635,104.07407407407408,53.18777292576419,107.03703703703702,56.39737991266375,108.51851851851852C59.60698689956332,110,62.816593886462876,110,66.02620087336244,110C69.235807860262,110,72.44541484716156,110,75.65502183406113,110C78.8646288209607,110,82.07423580786026,110,85.28384279475983,110C88.49344978165941,110,91.70305676855895,110,94.91266375545852,110C98.12227074235807,110,101.33187772925764,110,104.5414847161572,110C107.75109170305677,110,110.96069868995635,110,114.17030567685589,110C117.37991266375546,110,120.58951965065502,110,123.79912663755458,110C127.00873362445414,110,130.2183406113537,110,133.42794759825327,110C136.63755458515286,110,139.8471615720524,110,143.05676855895197,110C146.26637554585153,110,149.4759825327511,110,152.68558951965065,110C155.8951965065502,110,159.1048034934498,110,162.31441048034935,109.44444444444444C165.5240174672489,108.8888888888889,168.7336244541485,107.77777777777779,171.94323144104806,107.40740740740743C175.15283842794761,107.03703703703702,178.3624454148472,107.4074074074074,181.57205240174673,107.59259259259257C184.7816593886463,107.77777777777777,187.99126637554585,107.77777777777777,191.20087336244544,108.14814814814815C194.41048034934497,108.51851851851852,197.62008733624452,109.25925925925925,200.82969432314414,109.62962962962963C204.03930131004367,110,207.24890829694323,110,210.4585152838428,110C213.66812227074237,110,216.8777292576419,110,220.0873362445415,110C223.29694323144102,110,226.50655021834064,110,229.7161572052402,110C232.92576419213978,110,236.1353711790393,110,239.34497816593887,110C242.55458515283843,110,245.76419213973796,110,248.97379912663754,110C252.1834061135371,110,255.39301310043672,110,258.6026200873362,110C261.8122270742358,110,265.0218340611354,110,268.2314410480349,110C271.4410480349345,110,274.6506550218341,110,277.8602620087336,110C281.0698689956332,110,284.2794759825328,110,287.48908296943233,110C290.69868995633186,110,293.9082969432314,110,297.117903930131,110C300.32751091703057,110,303.5371179039301,110,305.1419213973799,110L306.7467248908297,110L306.7467248908297,110L305.1419213973799,110C303.5371179039301,110,300.32751091703057,110,297.117903930131,110C293.9082969432314,110,290.69868995633186,110,287.48908296943233,110C284.2794759825328,110,281.0698689956332,110,277.8602620087336,110C274.6506550218341,110,271.4410480349345,110,268.2314410480349,110C265.0218340611354,110,261.8122270742358,110,258.6026200873362,110C255.39301310043672,110,252.1834061135371,110,248.97379912663754,110C245.76419213973796,110,242.55458515283843,110,239.34497816593887,110C236.1353711790393,110,232.92576419213978,110,229.7161572052402,110C226.50655021834064,110,223.29694323144102,110,220.0873362445415,110C216.8777292576419,110,213.66812227074237,110,210.4585152838428,110C207.24890829694323,110,204.03930131004367,110,200.82969432314408,110C197.62008733624452,110,194.41048034934497,110,191.20087336244544,110C187.99126637554585,110,184.7816593886463,110,181.57205240174673,110C178.3624454148472,110,175.15283842794761,110,171.94323144104806,110C168.7336244541485,110,165.5240174672489,110,162.31441048034935,110C159.1048034934498,110,155.8951965065502,110,152.68558951965065,110C149.4759825327511,110,146.26637554585153,110,143.05676855895197,110C139.8471615720524,110,136.63755458515286,110,133.42794759825327,110C130.2183406113537,110,127.00873362445414,110,123.7991266375546,110C120.58951965065502,110,117.37991266375546,110,114.1703056768559,110C110.96069868995635,110,107.75109170305677,110,104.5414847161572,110C101.33187772925764,110,98.12227074235807,110,94.9126637554585,110C91.70305676855895,110,88.49344978165941,110,85.28384279475983,110C82.07423580786026,110,78.8646288209607,110,75.65502183406113,110C72.44541484716156,110,69.235807860262,110,66.02620087336244,110C62.816593886462876,110,59.60698689956332,110,56.39737991266376,110C53.18777292576419,110,49.978165938864635,110,46.76855895196507,110C43.55895196506551,110,40.34934497816594,110,37.13973799126637,110C33.93013100436681,110,30.720524017467245,110,27.510917030567683,110C24.30131004366812,110,21.09170305676856,110,17.882096069868997,110C14.672489082969433,110,11.462882096069869,110,9.858078602620088,110L8.253275109170305,110Z\"></path></g></svg></span>\n",
       "</li><li class=\"contrib-person float-left col-6 my-2 pr-2\">\n",
       "<span class=\"d-block Box\">\n",
       "<h3 class=\"border-bottom p-2 lh-condensed\">\n",
       "<a class=\"d-inline-block mr-2 float-left\" data-hovercard-type=\"user\" data-hovercard-url=\"/users/no-ikjun/hovercard\" href=\"/no-ikjun\">\n",
       "<img alt=\"no-ikjun\" class=\"avatar avatar-user\" height=\"38\" src=\"https://avatars.githubusercontent.com/u/96350366?s=60&amp;v=4\" width=\"38\"/>\n",
       "</a>\n",
       "<span class=\"f5 text-normal color-fg-muted float-right\">#5</span>\n",
       "<a class=\"text-normal\" data-hovercard-type=\"user\" data-hovercard-url=\"/users/no-ikjun/hovercard\" href=\"/no-ikjun\">no-ikjun</a>\n",
       "<span class=\"f6 d-block color-fg-muted\">\n",
       "<span class=\"cmeta\">\n",
       "<div>\n",
       "<a class=\"Link--secondary text-normal\" href=\"https://github.com/gsainfoteam/ziggle-fe/commits?author=no-ikjun&amp;since=2023-07-03&amp;until=2024-02-17\">9 commits</a>\n",
       "<span class=\"additions-deletions\">\n",
       "                      \n",
       "                    <span class=\"color-fg-success text-normal\">191 ++</span>\n",
       "                      \n",
       "                    <span class=\"color-fg-danger text-normal\">142 --</span>\n",
       "</span>\n",
       "</div>\n",
       "</span>\n",
       "</span>\n",
       "</h3>\n",
       "<svg class=\"capped-card-content\" preserveaspectratio=\"xMinYMin meet\" viewbox=\"0 0 355 170\"><g transform=\"translate(20,10)\"><g class=\"x axis\" fill=\"none\" font-family=\"sans-serif\" font-size=\"10\" text-anchor=\"middle\" transform=\"translate(0, 110)\"><path class=\"domain\" d=\"M0.5,6V0.5H315.5V6\" stroke=\"currentColor\"></path><g class=\"tick\" opacity=\"1\" transform=\"translate(39.875,0)\"><line stroke=\"currentColor\" y2=\"6\"></line><text dy=\"0.71em\" fill=\"#6a737d\" style=\"display: block;\" y=\"9\">August</text></g><g class=\"tick\" opacity=\"1\" transform=\"translate(82.5169213973799,0)\"><line stroke=\"currentColor\" y2=\"6\"></line><text dy=\"0.71em\" fill=\"#6a737d\" style=\"display: none;\" y=\"9\">September</text></g><g class=\"tick\" opacity=\"1\" transform=\"translate(123.78329694323145,0)\"><line stroke=\"currentColor\" y2=\"6\"></line><text dy=\"0.71em\" fill=\"#6a737d\" style=\"display: none;\" y=\"9\">October</text></g><g class=\"tick\" opacity=\"1\" transform=\"translate(166.42521834061137,0)\"><line stroke=\"currentColor\" y2=\"6\"></line><text dy=\"0.71em\" fill=\"#6a737d\" style=\"display: block;\" y=\"9\">November</text></g><g class=\"tick\" opacity=\"1\" transform=\"translate(207.6915938864629,0)\"><line stroke=\"currentColor\" y2=\"6\"></line><text dy=\"0.71em\" fill=\"#6a737d\" style=\"display: none;\" y=\"9\">December</text></g><g class=\"tick\" opacity=\"1\" transform=\"translate(250.3335152838428,0)\"><line stroke=\"currentColor\" y2=\"6\"></line><text dy=\"0.71em\" fill=\"#6a737d\" style=\"display: none;\" y=\"9\">2024</text></g><g class=\"tick\" opacity=\"1\" transform=\"translate(292.9754366812227,0)\"><line stroke=\"currentColor\" y2=\"6\"></line><text dy=\"0.71em\" fill=\"#6a737d\" style=\"display: block;\" y=\"9\">February</text></g></g><g class=\"y axis\" fill=\"none\" font-family=\"sans-serif\" font-size=\"10\" text-anchor=\"end\"><path class=\"domain\" d=\"M315,110.5H0.5V0.5H315\" stroke=\"currentColor\"></path><g class=\"tick\" opacity=\"1\" transform=\"translate(0,110.5)\"><line stroke=\"currentColor\" x2=\"315\"></line><text class=\"midlabel\" dx=\"157.5\" dy=\"0.32em\" fill=\"#6a737d\" style=\"display: none;\" x=\"-10\">0</text></g><g class=\"tick\" opacity=\"1\" transform=\"translate(0,54.94444444444444)\"><line stroke=\"currentColor\" x2=\"315\"></line><text class=\"midlabel\" dx=\"157.5\" dy=\"0.32em\" fill=\"#6a737d\" style=\"display: block;\" x=\"-10\">50</text></g></g><path d=\"M8.253275109170305,110L9.858078602620088,110C11.462882096069869,110,14.672489082969433,110,17.882096069868997,110C21.09170305676856,110,24.30131004366812,110,27.510917030567683,110C30.720524017467245,110,33.93013100436681,110,37.13973799126637,110C40.34934497816594,110,43.55895196506551,110,46.76855895196507,110C49.978165938864635,110,53.18777292576419,110,56.39737991266375,110C59.60698689956332,110,62.816593886462876,110,66.02620087336244,110C69.235807860262,110,72.44541484716156,110,75.65502183406113,110C78.8646288209607,110,82.07423580786026,110,85.28384279475983,110C88.49344978165941,110,91.70305676855895,110,94.91266375545852,110C98.12227074235807,110,101.33187772925764,110,104.5414847161572,110C107.75109170305677,110,110.96069868995635,110,114.17030567685589,110C117.37991266375546,110,120.58951965065502,110,123.79912663755458,110C127.00873362445414,110,130.2183406113537,110,133.42794759825327,110C136.63755458515286,110,139.8471615720524,110,143.05676855895197,110C146.26637554585153,110,149.4759825327511,110,152.68558951965065,110C155.8951965065502,110,159.1048034934498,110,162.31441048034935,110C165.5240174672489,110,168.7336244541485,110,171.94323144104806,110C175.15283842794761,110,178.3624454148472,110,181.57205240174673,108.33333333333333C184.7816593886463,106.66666666666667,187.99126637554585,103.33333333333333,191.20087336244544,103.33333333333333C194.41048034934497,103.33333333333333,197.62008733624452,106.66666666666667,200.82969432314414,108.33333333333333C204.03930131004367,110,207.24890829694323,110,210.4585152838428,110C213.66812227074237,110,216.8777292576419,110,220.0873362445415,110C223.29694323144102,110,226.50655021834064,110,229.7161572052402,110C232.92576419213978,110,236.1353711790393,110,239.34497816593887,110C242.55458515283843,110,245.76419213973796,110,248.97379912663754,110C252.1834061135371,110,255.39301310043672,110,258.6026200873362,110C261.8122270742358,110,265.0218340611354,110,268.2314410480349,110C271.4410480349345,110,274.6506550218341,110,277.8602620087336,110C281.0698689956332,110,284.2794759825328,110,287.48908296943233,110C290.69868995633186,110,293.9082969432314,110,297.117903930131,110C300.32751091703057,110,303.5371179039301,110,305.1419213973799,110L306.7467248908297,110L306.7467248908297,110L305.1419213973799,110C303.5371179039301,110,300.32751091703057,110,297.117903930131,110C293.9082969432314,110,290.69868995633186,110,287.48908296943233,110C284.2794759825328,110,281.0698689956332,110,277.8602620087336,110C274.6506550218341,110,271.4410480349345,110,268.2314410480349,110C265.0218340611354,110,261.8122270742358,110,258.6026200873362,110C255.39301310043672,110,252.1834061135371,110,248.97379912663754,110C245.76419213973796,110,242.55458515283843,110,239.34497816593887,110C236.1353711790393,110,232.92576419213978,110,229.7161572052402,110C226.50655021834064,110,223.29694323144102,110,220.0873362445415,110C216.8777292576419,110,213.66812227074237,110,210.4585152838428,110C207.24890829694323,110,204.03930131004367,110,200.82969432314408,110C197.62008733624452,110,194.41048034934497,110,191.20087336244544,110C187.99126637554585,110,184.7816593886463,110,181.57205240174673,110C178.3624454148472,110,175.15283842794761,110,171.94323144104806,110C168.7336244541485,110,165.5240174672489,110,162.31441048034935,110C159.1048034934498,110,155.8951965065502,110,152.68558951965065,110C149.4759825327511,110,146.26637554585153,110,143.05676855895197,110C139.8471615720524,110,136.63755458515286,110,133.42794759825327,110C130.2183406113537,110,127.00873362445414,110,123.7991266375546,110C120.58951965065502,110,117.37991266375546,110,114.1703056768559,110C110.96069868995635,110,107.75109170305677,110,104.5414847161572,110C101.33187772925764,110,98.12227074235807,110,94.9126637554585,110C91.70305676855895,110,88.49344978165941,110,85.28384279475983,110C82.07423580786026,110,78.8646288209607,110,75.65502183406113,110C72.44541484716156,110,69.235807860262,110,66.02620087336244,110C62.816593886462876,110,59.60698689956332,110,56.39737991266376,110C53.18777292576419,110,49.978165938864635,110,46.76855895196507,110C43.55895196506551,110,40.34934497816594,110,37.13973799126637,110C33.93013100436681,110,30.720524017467245,110,27.510917030567683,110C24.30131004366812,110,21.09170305676856,110,17.882096069868997,110C14.672489082969433,110,11.462882096069869,110,9.858078602620088,110L8.253275109170305,110Z\"></path></g></svg></span>\n",
       "</li></ol>"
      ]
     },
     "execution_count": 95,
     "metadata": {},
     "output_type": "execute_result"
    }
   ],
   "source": [
    "ol_tag"
   ]
  },
  {
   "cell_type": "code",
   "execution_count": 104,
   "id": "b9fa4325",
   "metadata": {},
   "outputs": [
    {
     "data": {
      "text/plain": [
       "10"
      ]
     },
     "execution_count": 104,
     "metadata": {},
     "output_type": "execute_result"
    }
   ],
   "source": [
    "len(ol_tag.find_all('a', class_='text-normal'))"
   ]
  },
  {
   "cell_type": "code",
   "execution_count": 107,
   "id": "5dae44c1",
   "metadata": {},
   "outputs": [],
   "source": [
    "result = ol_tag.find_all('a', class_='text-normal')"
   ]
  },
  {
   "cell_type": "code",
   "execution_count": 110,
   "id": "f671574e",
   "metadata": {},
   "outputs": [
    {
     "data": {
      "text/plain": [
       "10"
      ]
     },
     "execution_count": 110,
     "metadata": {},
     "output_type": "execute_result"
    }
   ],
   "source": [
    "len(result)"
   ]
  },
  {
   "cell_type": "code",
   "execution_count": 115,
   "id": "c0d6b7c7",
   "metadata": {},
   "outputs": [
    {
     "name": "stdout",
     "output_type": "stream",
     "text": [
      "2paperstar\n",
      "320 commits\n",
      "dohyun-ko\n",
      "105 commits\n",
      "MiRoro2\n",
      "39 commits\n",
      "Shimsuyeon\n",
      "18 commits\n",
      "no-ikjun\n",
      "9 commits\n"
     ]
    }
   ],
   "source": [
    "for i in range(len(result)):\n",
    "    print(result[i].get_text())\n"
   ]
  }
 ],
 "metadata": {
  "kernelspec": {
   "display_name": "Python 3 (ipykernel)",
   "language": "python",
   "name": "python3"
  },
  "language_info": {
   "codemirror_mode": {
    "name": "ipython",
    "version": 3
   },
   "file_extension": ".py",
   "mimetype": "text/x-python",
   "name": "python",
   "nbconvert_exporter": "python",
   "pygments_lexer": "ipython3",
   "version": "3.11.5"
  }
 },
 "nbformat": 4,
 "nbformat_minor": 5
}
